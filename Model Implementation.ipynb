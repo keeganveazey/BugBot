{
 "cells": [
  {
   "cell_type": "code",
   "execution_count": 1,
   "id": "339ed49a",
   "metadata": {},
   "outputs": [],
   "source": [
    "import tensorflow as tf\n",
    "from tensorflow.keras.models import Sequential\n",
    "from tensorflow.keras.layers import Conv2D, MaxPooling2D, Flatten, Dense, Dropout\n",
    "from tensorflow.keras.preprocessing.image import ImageDataGenerator\n",
    "from tensorflow.keras.applications import ResNet50, EfficientNetB0, VGG16\n",
    "from tensorflow.keras.models import Model\n",
    "import os"
   ]
  },
  {
   "cell_type": "code",
   "execution_count": 2,
   "id": "041750bc",
   "metadata": {},
   "outputs": [
    {
     "name": "stdout",
     "output_type": "stream",
     "text": [
      "Found 6642 images belonging to 11 classes.\n",
      "Found 440 images belonging to 11 classes.\n",
      "Found 220 images belonging to 11 classes.\n"
     ]
    }
   ],
   "source": [
    "# Directory structure\n",
    "TRAIN_DIR = \"PROCESSED_DATA/TRAINING_DATA/TRAINING_AUGMENTED_DATA\"\n",
    "VALID_DIR = \"PROCESSED_DATA/VALIDATION_DATA/\"\n",
    "TEST_DIR = \"PROCESSED_DATA/TEST_DATA/\"\n",
    "\n",
    "# Image Parameters\n",
    "IMG_SIZE = (224, 224)\n",
    "BATCH_SIZE = 32\n",
    "\n",
    "# Load Data\n",
    "datagen = ImageDataGenerator(rescale=1./255)\n",
    "\n",
    "train_generator = datagen.flow_from_directory(\n",
    "    TRAIN_DIR,\n",
    "    target_size=IMG_SIZE,\n",
    "    batch_size=BATCH_SIZE,\n",
    "    class_mode='categorical')\n",
    "\n",
    "val_generator = datagen.flow_from_directory(\n",
    "    VALID_DIR,\n",
    "    target_size=IMG_SIZE,\n",
    "    batch_size=BATCH_SIZE,\n",
    "    class_mode='categorical')\n",
    "\n",
    "test_generator = datagen.flow_from_directory(\n",
    "    TEST_DIR,\n",
    "    target_size=IMG_SIZE,\n",
    "    batch_size=BATCH_SIZE,\n",
    "    class_mode='categorical',\n",
    "    shuffle=False)\n"
   ]
  },
  {
   "cell_type": "code",
   "execution_count": 3,
   "id": "83695bc7",
   "metadata": {},
   "outputs": [],
   "source": [
    "# Build a CNN model\n",
    "def build_cnn():\n",
    "    model = Sequential([\n",
    "        Conv2D(32, (3,3), activation='relu', padding='same', input_shape=(224, 224, 3)),\n",
    "        MaxPooling2D(2,2),\n",
    "        Conv2D(64, (3,3), activation='relu', padding='same'),\n",
    "        MaxPooling2D(2,2),\n",
    "        Conv2D(128, (3,3), activation='relu', padding='same'),\n",
    "        MaxPooling2D(2,2),\n",
    "        Flatten(),\n",
    "        Dense(256, activation='relu'),\n",
    "        Dropout(0.5),\n",
    "        Dense(train_generator.num_classes, activation='softmax')\n",
    "    ])\n",
    "    return model\n",
    "\n",
    "# Build a Transfer Learning Model\n",
    "def build_transfer_learning(model_name):\n",
    "    if model_name == 'ResNet50':\n",
    "        base_model = ResNet50(weights='imagenet', include_top=False, input_shape=(224, 224, 3))\n",
    "    elif model_name == 'EfficientNet':\n",
    "        base_model = EfficientNetB0(weights='imagenet', include_top=False, input_shape=(224, 224, 3))\n",
    "    elif model_name == 'VGG16':\n",
    "        base_model = VGG16(weights='imagenet', include_top=False, input_shape=(224, 224, 3))\n",
    "    else:\n",
    "        raise ValueError(\"Invalid model name. Choose from 'ResNet50', 'EfficientNet', or 'VGG16'\")\n",
    "    \n",
    "    base_model.trainable = False  # Freeze the base model layers\n",
    "    \n",
    "    x = Flatten()(base_model.output)\n",
    "    x = Dense(512, activation='relu')(x)\n",
    "    x = Dropout(0.5)(x)\n",
    "    output_layer = Dense(train_generator.num_classes, activation='softmax')(x)\n",
    "    \n",
    "    model = Model(inputs=base_model.input, outputs=output_layer)\n",
    "    return model\n"
   ]
  },
  {
   "cell_type": "markdown",
   "id": "85c663e2",
   "metadata": {},
   "source": [
    "#### Standard CNN without transfer learning"
   ]
  },
  {
   "cell_type": "code",
   "execution_count": 4,
   "id": "900b9735",
   "metadata": {},
   "outputs": [
    {
     "name": "stdout",
     "output_type": "stream",
     "text": [
      "Epoch 1/10\n",
      "208/208 [==============================] - 208s 994ms/step - loss: 2.3308 - accuracy: 0.1593 - val_loss: 2.1978 - val_accuracy: 0.2227\n",
      "Epoch 2/10\n",
      "208/208 [==============================] - 214s 1s/step - loss: 2.1478 - accuracy: 0.2543 - val_loss: 2.1072 - val_accuracy: 0.3227\n",
      "Epoch 3/10\n",
      "208/208 [==============================] - 226s 1s/step - loss: 2.0000 - accuracy: 0.3129 - val_loss: 2.0016 - val_accuracy: 0.3295\n",
      "Epoch 4/10\n",
      "208/208 [==============================] - 228s 1s/step - loss: 1.8567 - accuracy: 0.3683 - val_loss: 1.9427 - val_accuracy: 0.3477\n",
      "Epoch 5/10\n",
      "208/208 [==============================] - 229s 1s/step - loss: 1.6967 - accuracy: 0.4262 - val_loss: 1.8842 - val_accuracy: 0.4045\n",
      "Epoch 6/10\n",
      "208/208 [==============================] - 228s 1s/step - loss: 1.5902 - accuracy: 0.4642 - val_loss: 1.9006 - val_accuracy: 0.3955\n",
      "Epoch 7/10\n",
      "208/208 [==============================] - 230s 1s/step - loss: 1.4560 - accuracy: 0.5161 - val_loss: 1.7859 - val_accuracy: 0.4523\n",
      "Epoch 8/10\n",
      "208/208 [==============================] - 229s 1s/step - loss: 1.3467 - accuracy: 0.5483 - val_loss: 1.8311 - val_accuracy: 0.4295\n",
      "Epoch 9/10\n",
      "208/208 [==============================] - 232s 1s/step - loss: 1.2538 - accuracy: 0.5824 - val_loss: 1.8445 - val_accuracy: 0.4500\n",
      "Epoch 10/10\n",
      "208/208 [==============================] - 232s 1s/step - loss: 1.1574 - accuracy: 0.6055 - val_loss: 1.8244 - val_accuracy: 0.4568\n"
     ]
    },
    {
     "data": {
      "text/plain": [
       "<keras.callbacks.History at 0x204d5b9d690>"
      ]
     },
     "execution_count": 4,
     "metadata": {},
     "output_type": "execute_result"
    }
   ],
   "source": [
    "# Select the model to train\n",
    "use_transfer_learning = False  # Change to False for a standard CNN\n",
    "transfer_model_name = 'ResNet50'  # Options: 'ResNet50', 'EfficientNet', 'VGG16'\n",
    "\n",
    "if use_transfer_learning:\n",
    "    model = build_transfer_learning(transfer_model_name)\n",
    "else:\n",
    "    model = build_cnn()\n",
    "\n",
    "# Compile the model\n",
    "model.compile(optimizer=tf.keras.optimizers.Adam(learning_rate=0.0001), loss='categorical_crossentropy', metrics=['accuracy'])\n",
    "\n",
    "# Train the model\n",
    "model.fit(\n",
    "    train_generator,\n",
    "    validation_data=val_generator,\n",
    "    epochs=10\n",
    ")\n"
   ]
  },
  {
   "cell_type": "code",
   "execution_count": 5,
   "id": "3365ab4b",
   "metadata": {},
   "outputs": [
    {
     "name": "stdout",
     "output_type": "stream",
     "text": [
      "7/7 [==============================] - 3s 370ms/step - loss: 1.9832 - accuracy: 0.3682\n",
      "Test Accuracy: 0.3682\n"
     ]
    }
   ],
   "source": [
    "# Evaluate on test data\n",
    "test_loss, test_acc = model.evaluate(test_generator)\n",
    "print(f\"Test Accuracy: {test_acc:.4f}\")\n",
    "\n",
    "# Save the model\n",
    "model.save(\"pest_classifier_cnn.h5\")\n"
   ]
  },
  {
   "cell_type": "markdown",
   "id": "cb8c6a50",
   "metadata": {},
   "source": [
    "#### Use transfer leaning: EfficientNet"
   ]
  },
  {
   "cell_type": "code",
   "execution_count": null,
   "id": "3bad4a99",
   "metadata": {},
   "outputs": [],
   "source": [
    "# Select the model to train\n",
    "use_transfer_learning = True  # Change to False for a standard CNN\n",
    "transfer_model_name = 'EfficientNet'  # Options: 'ResNet50', 'EfficientNet', 'VGG16'\n",
    "\n",
    "if use_transfer_learning:\n",
    "    model = build_transfer_learning(transfer_model_name)\n",
    "else:\n",
    "    model = build_cnn()\n",
    "\n",
    "# Compile the model\n",
    "model.compile(optimizer=tf.keras.optimizers.Adam(learning_rate=0.0001), loss='categorical_crossentropy', metrics=['accuracy'])\n",
    "\n",
    "# Train the model\n",
    "model.fit(\n",
    "    train_generator,\n",
    "    validation_data=val_generator,\n",
    "    epochs=10\n",
    ")\n"
   ]
  },
  {
   "cell_type": "code",
   "execution_count": null,
   "id": "91769165",
   "metadata": {},
   "outputs": [],
   "source": [
    "# Evaluate on test data\n",
    "test_loss, test_acc = model.evaluate(test_generator)\n",
    "print(f\"Test Accuracy: {test_acc:.4f}\")\n",
    "\n",
    "# Save the model\n",
    "model.save(\"pest_classifier_cnn_efficientnet.h5\")\n"
   ]
  },
  {
   "cell_type": "code",
   "execution_count": null,
   "id": "aa31d45f",
   "metadata": {},
   "outputs": [],
   "source": []
  }
 ],
 "metadata": {
  "kernelspec": {
   "display_name": "env",
   "language": "python",
   "name": "env"
  },
  "language_info": {
   "codemirror_mode": {
    "name": "ipython",
    "version": 3
   },
   "file_extension": ".py",
   "mimetype": "text/x-python",
   "name": "python",
   "nbconvert_exporter": "python",
   "pygments_lexer": "ipython3",
   "version": "3.10.13"
  }
 },
 "nbformat": 4,
 "nbformat_minor": 5
}
