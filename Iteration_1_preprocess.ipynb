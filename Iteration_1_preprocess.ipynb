{
 "cells": [
  {
   "cell_type": "markdown",
   "metadata": {},
   "source": [
    "#### Iteration #1 – Preprocessing"
   ]
  },
  {
   "cell_type": "code",
   "execution_count": 19,
   "metadata": {},
   "outputs": [
    {
     "name": "stdout",
     "output_type": "stream",
     "text": [
      "Skipped non-image file: .DS_Store\n",
      "Skipped non-image file: .DS_Store\n",
      "Error processing /Users/shirleyfong/Desktop/DS 5500/Code/insect data/flea/image_94_flea_google.jpg: cannot identify image file '/Users/shirleyfong/Desktop/DS 5500/Code/insect data/flea/image_94_flea_google.jpg'\n",
      "Folder: flea - Successfully standardized and normalized 159/160 images.\n",
      "Skipped non-image file: .DS_Store\n",
      "Skipped non-image file: image_83_tick.gif\n",
      "Error processing /Users/shirleyfong/Desktop/DS 5500/Code/insect data/tick/image_31_tick_google.jpg: cannot identify image file '/Users/shirleyfong/Desktop/DS 5500/Code/insect data/tick/image_31_tick_google.jpg'\n",
      "Error processing /Users/shirleyfong/Desktop/DS 5500/Code/insect data/tick/image_44_tick_google.jpg: cannot identify image file '/Users/shirleyfong/Desktop/DS 5500/Code/insect data/tick/image_44_tick_google.jpg'\n",
      "Error processing /Users/shirleyfong/Desktop/DS 5500/Code/insect data/tick/image_45_tick_google.jpg: cannot identify image file '/Users/shirleyfong/Desktop/DS 5500/Code/insect data/tick/image_45_tick_google.jpg'\n",
      "Folder: tick - Successfully standardized and normalized 155/158 images.\n",
      "Standardizing and normalization on images complete.\n"
     ]
    }
   ],
   "source": [
    "import os\n",
    "from PIL import Image\n",
    "import numpy as np\n",
    "\n",
    "# ITERATION 1: PREPROCESSING THE DATA\n",
    "# ------------------------------------\n",
    "# 1) Reading Images: Code opens images from a specified input directory & converts them to RGB format\n",
    "# 2) Standardization: Images are resized to a fixed size of 224x224 pixels\n",
    "# 3) Normalization: Pixel values are normalized to a range between -1 and 1\n",
    "# 4) Saving: Processed images are saved in a corresponding output directory\n",
    "# 5) Processing Directories: Code iterates through all subdirectories in the input directory, processes image files, then saves the preprocessed images in corresponding subfolders\n",
    "\n",
    "# Directories\n",
    "input_directory = \"/Users/shirleyfong/Desktop/DS 5500/Code/insect data\"\n",
    "output_directory = \"/Users/shirleyfong/Desktop/DS 5500/Code/insect data/preprocessed_images\" \n",
    "os.makedirs(output_directory, exist_ok=True)\n",
    "\n",
    "def preprocess_image(image_path, save_path):\n",
    "    try:\n",
    "        # Open image & convert to RGB\n",
    "        image = Image.open(image_path).convert(\"RGB\")\n",
    "        \n",
    "        # Standardize to fixed image size of 224x224\n",
    "        image = image.resize((224, 224))\n",
    "        \n",
    "        # Convert to array & normalize pixel values [-1, 1]\n",
    "        image_array = np.array(image).astype(np.float32)\n",
    "        image_array = (image_array / 127.5) - 1.0 # Contains pixel values normalized between -1 and 1\n",
    "\n",
    "        # Checking range to ensure images were normalized between -1 and 1\n",
    "        #print(f\"Processing: {image_path}\")\n",
    "        #print(f\"  Min pixel value after normalization: {image_array.min()}\")\n",
    "        #print(f\"  Max pixel value after normalization: {image_array.max()}\")\n",
    "        \n",
    "        # Save preprocessed image\n",
    "        preprocessed_image = Image.fromarray(((image_array + 1) * 127.5).astype(np.uint8))\n",
    "        preprocessed_image.save(save_path)\n",
    "        return True  \n",
    "    except Exception as e: # Fail to processs image, prints message\n",
    "        print(f\"Error processing {image_path}: {e}\") \n",
    "        return False  \n",
    "\n",
    "# Process all images in subfolders\n",
    "for root, subdirs, files in os.walk(input_directory):\n",
    "    total_files = 0\n",
    "    successfully_processed = 0\n",
    "    \n",
    "    for file in files:\n",
    "        if file.lower().endswith(('.jpg', '.jpeg', '.png')):\n",
    "            total_files += 1\n",
    "            input_path = os.path.join(root, file)\n",
    "            \n",
    "            # Create corresponding subfolder in output directory\n",
    "            relative_path = os.path.relpath(root, input_directory)\n",
    "            output_subdir = os.path.join(output_directory, relative_path)\n",
    "            os.makedirs(output_subdir, exist_ok=True)\n",
    "            \n",
    "            # Save preprocessed image\n",
    "            output_path = os.path.join(output_subdir, file)\n",
    "            if preprocess_image(input_path, output_path):\n",
    "                successfully_processed += 1\n",
    "        else:\n",
    "            print(f\"Skipped non-image file: {file}\")\n",
    "    \n",
    "    # Print folder summary\n",
    "    if total_files > 0:\n",
    "        print(f\"Folder: {os.path.basename(root)} - Successfully standardized and normalized {successfully_processed}/{total_files} images.\")\n",
    "\n",
    "print(\"Standardizing and normalization on images complete.\")\n"
   ]
  }
 ],
 "metadata": {
  "kernelspec": {
   "display_name": "Python 3",
   "language": "python",
   "name": "python3"
  },
  "language_info": {
   "codemirror_mode": {
    "name": "ipython",
    "version": 3
   },
   "file_extension": ".py",
   "mimetype": "text/x-python",
   "name": "python",
   "nbconvert_exporter": "python",
   "pygments_lexer": "ipython3",
   "version": "3.9.6"
  }
 },
 "nbformat": 4,
 "nbformat_minor": 2
}
