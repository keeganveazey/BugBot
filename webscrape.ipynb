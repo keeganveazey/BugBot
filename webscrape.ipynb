{
 "cells": [
  {
   "cell_type": "markdown",
   "metadata": {},
   "source": [
    "#### Data collection"
   ]
  },
  {
   "cell_type": "code",
   "execution_count": null,
   "metadata": {},
   "outputs": [
    {
     "name": "stdout",
     "output_type": "stream",
     "text": [
      "Defaulting to user installation because normal site-packages is not writeable\n",
      "Requirement already satisfied: bing_image_downloader in /Users/shirleyfong/Library/Python/3.9/lib/python/site-packages (1.1.2)\n",
      "\u001b[33mWARNING: You are using pip version 21.2.4; however, version 24.3.1 is available.\n",
      "You should consider upgrading via the '/Library/Developer/CommandLineTools/usr/bin/python3 -m pip install --upgrade pip' command.\u001b[0m\n",
      "Note: you may need to restart the kernel to use updated packages.\n"
     ]
    }
   ],
   "source": [
    "pip install bing_image_downloader"
   ]
  },
  {
   "cell_type": "code",
   "execution_count": 2,
   "metadata": {},
   "outputs": [],
   "source": [
    "import csv\n",
    "import os\n",
    "from bing_image_downloader import downloader"
   ]
  },
  {
   "cell_type": "code",
   "execution_count": null,
   "metadata": {},
   "outputs": [],
   "source": [
    "%%capture captured_logs\n",
    "downloader.download(\"subterranean termite\", # search term\n",
    "                    limit=150, \n",
    "                    output_dir=\"subterranean termite\", # folder name\n",
    "                    force_replace=False)"
   ]
  },
  {
   "cell_type": "code",
   "execution_count": 5,
   "metadata": {},
   "outputs": [
    {
     "name": "stdout",
     "output_type": "stream",
     "text": [
      "Renamed images and saved URLs to subterranean_termite_urls.csv\n"
     ]
    }
   ],
   "source": [
    "# Gets the logs outputs\n",
    "logs = captured_logs.stdout.splitlines()\n",
    "\n",
    "# Stores the invalid & valid links\n",
    "valid_urls = []\n",
    "invalid_urls = set()\n",
    "\n",
    "# Extract invalid urls (e.g., invalid are the urls that couldn't be accessed)\n",
    "for line in logs:\n",
    "    if \"[Error]Invalid image\" in line or \"Issue getting:\" in line:\n",
    "        # extracts the url from the line\n",
    "        url_start = line.find(\"http\")\n",
    "        if url_start != -1:  # to make sure \"http\" exists in the line\n",
    "            invalid_url = line[url_start:].strip()\n",
    "            invalid_urls.add(invalid_url)  # add to invalid urls\n",
    "\n",
    "# Extract valid urls\n",
    "for line in logs:\n",
    "    if \"http\" in line:\n",
    "        url_start = line.find(\"http\")\n",
    "        if url_start != -1:\n",
    "            clean_url = line[url_start:].strip()\n",
    "            # add url only if it's not in the invalid urls set\n",
    "            if clean_url not in invalid_urls:\n",
    "                valid_urls.append(clean_url)\n",
    "\n",
    "# Folder name\n",
    "download_folder = \"subterranean termite/subterranean termite\"\n",
    "\n",
    "# Ensure images correspond to urls in their extraction order\n",
    "csv_file = \"subterranean_termite_urls.csv\"\n",
    "if os.path.exists(download_folder):\n",
    "    downloaded_files = os.listdir(download_folder)\n",
    "    downloaded_files = sorted(\n",
    "        downloaded_files, \n",
    "        key=lambda x: os.path.getctime(os.path.join(download_folder, x))\n",
    "    )\n",
    "    \n",
    "    with open(csv_file, mode=\"w\", newline=\"\") as file:\n",
    "        writer = csv.writer(file)\n",
    "        writer.writerow([\"image file name\", \"URL\"])\n",
    "        \n",
    "        for index, (filename, url) in enumerate(zip(downloaded_files, valid_urls), start=1):\n",
    "            file_extension = os.path.splitext(filename)[1]\n",
    "\n",
    "            #  Image file name\n",
    "            new_name = f\"image_{index}_subterranean termite{file_extension}\"\n",
    "\n",
    "            original_path = os.path.join(download_folder, filename)\n",
    "            new_path = os.path.join(download_folder, new_name)\n",
    "            os.rename(original_path, new_path)\n",
    "            writer.writerow([new_name, url])\n",
    "            \n",
    "    print(f\"Renamed images and saved URLs to {csv_file}\")\n",
    "else:\n",
    "    print(f\"Download folder '{download_folder}' not found.\")\n"
   ]
  }
 ],
 "metadata": {
  "kernelspec": {
   "display_name": "Python 3 (ipykernel)",
   "language": "python",
   "name": "python3"
  },
  "language_info": {
   "codemirror_mode": {
    "name": "ipython",
    "version": 3
   },
   "file_extension": ".py",
   "mimetype": "text/x-python",
   "name": "python",
   "nbconvert_exporter": "python",
   "pygments_lexer": "ipython3",
   "version": "3.9.6"
  }
 },
 "nbformat": 4,
 "nbformat_minor": 2
}
